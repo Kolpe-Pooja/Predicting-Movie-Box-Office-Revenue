{
 "cells": [
  {
   "cell_type": "code",
   "execution_count": 12,
   "id": "0cbddf60",
   "metadata": {},
   "outputs": [],
   "source": [
    "import dash\n",
    "from dash import dcc, html\n",
    "import plotly.graph_objs as go\n",
    "from dash.dependencies import Input, Output\n",
    "import pandas as pd\n",
    "import xgboost as xgb\n",
    "from sklearn.model_selection import train_test_split\n",
    "from sklearn.preprocessing import StandardScaler\n",
    "import numpy as np\n",
    "from sklearn.model_selection import train_test_split\n",
    "from sklearn.metrics import mean_squared_error\n",
    "from xgboost import XGBRegressor\n",
    "import numpy as np\n"
   ]
  },
  {
   "cell_type": "code",
   "execution_count": 13,
   "id": "23f223a4",
   "metadata": {},
   "outputs": [],
   "source": [
    "movies = pd.read_csv(\"tmdb_5000_movies.csv\")\n",
    "credits = pd.read_csv(\"tmdb_5000_credits.csv\")"
   ]
  },
  {
   "cell_type": "code",
   "execution_count": 14,
   "id": "9d3b9d1e",
   "metadata": {},
   "outputs": [],
   "source": [
    "df = movies.merge(credits, on='title')"
   ]
  },
  {
   "cell_type": "code",
   "execution_count": 15,
   "id": "32c313b0",
   "metadata": {},
   "outputs": [
    {
     "name": "stdout",
     "output_type": "stream",
     "text": [
      "                                      title     budget     revenue  \\\n",
      "0                                    Avatar  237000000  2787965087   \n",
      "1  Pirates of the Caribbean: At World's End  300000000   961000000   \n",
      "2                                   Spectre  245000000   880674609   \n",
      "3                     The Dark Knight Rises  250000000  1084939099   \n",
      "4                               John Carter  260000000   284139100   \n",
      "\n",
      "                                                cast  \\\n",
      "0  [{\"cast_id\": 242, \"character\": \"Jake Sully\", \"...   \n",
      "1  [{\"cast_id\": 4, \"character\": \"Captain Jack Spa...   \n",
      "2  [{\"cast_id\": 1, \"character\": \"James Bond\", \"cr...   \n",
      "3  [{\"cast_id\": 2, \"character\": \"Bruce Wayne / Ba...   \n",
      "4  [{\"cast_id\": 5, \"character\": \"John Carter\", \"c...   \n",
      "\n",
      "                                                crew  \n",
      "0  [{\"credit_id\": \"52fe48009251416c750aca23\", \"de...  \n",
      "1  [{\"credit_id\": \"52fe4232c3a36847f800b579\", \"de...  \n",
      "2  [{\"credit_id\": \"54805967c3a36829b5002c41\", \"de...  \n",
      "3  [{\"credit_id\": \"52fe4781c3a36847f81398c3\", \"de...  \n",
      "4  [{\"credit_id\": \"52fe479ac3a36847f813eaa3\", \"de...  \n"
     ]
    }
   ],
   "source": [
    "print(df[['title', 'budget', 'revenue', 'cast', 'crew']].head())"
   ]
  },
  {
   "cell_type": "code",
   "execution_count": 17,
   "id": "bba852d4",
   "metadata": {},
   "outputs": [],
   "source": [
    "# Convert stringified JSON to Python list/dict\n",
    "import pandas as pd\n",
    "import numpy as np\n",
    "import json  \n",
    "\n",
    "# Then continue loading and working with your data...\n",
    "\n",
    "def get_director(crew_str):\n",
    "    crew = json.loads(crew_str)\n",
    "    for person in crew:\n",
    "        if person['job'] == 'Director':\n",
    "            return person['name']\n",
    "    return np.nan\n",
    "\n",
    "def get_top_cast(cast_str):\n",
    "    cast = json.loads(cast_str)\n",
    "    return [person['name'] for person in cast[:3]]\n",
    "\n",
    "df['director'] = df['crew'].apply(get_director)\n",
    "df['top_cast'] = df['cast'].apply(get_top_cast)\n",
    "\n",
    "# Keep the main features\n",
    "df_model = df[['budget', 'popularity', 'runtime', 'vote_average', 'vote_count', 'revenue', 'director', 'top_cast']].copy()\n",
    "\n",
    "# Fill missing numeric values\n",
    "df_model.fillna({'budget': df_model['budget'].mean(), 'runtime': df_model['runtime'].mean()}, inplace=True)\n",
    "\n",
    "# One-hot encode director (top 10 only)\n",
    "top_directors = df_model['director'].value_counts().head(10).index\n",
    "df_model['director'] = df_model['director'].apply(lambda x: x if x in top_directors else 'Other')\n",
    "df_model = pd.get_dummies(df_model, columns=['director'], drop_first=True)\n",
    "\n",
    "# Convert top cast list to individual columns\n",
    "df_model[['actor_1', 'actor_2', 'actor_3']] = pd.DataFrame(df_model['top_cast'].tolist(), index=df_model.index)\n",
    "df_model.drop(columns='top_cast', inplace=True)\n",
    "\n",
    "# One-hot encode actors (optional, keep top 10 for each)\n",
    "for i in ['actor_1', 'actor_2', 'actor_3']:\n",
    "    top_actors = df_model[i].value_counts().head(10).index\n",
    "    df_model[i] = df_model[i].apply(lambda x: x if x in top_actors else 'Other')\n",
    "\n",
    "df_model = pd.get_dummies(df_model, columns=['actor_1', 'actor_2', 'actor_3'], drop_first=True)\n"
   ]
  },
  {
   "cell_type": "code",
   "execution_count": 18,
   "id": "3c9b5198",
   "metadata": {},
   "outputs": [
    {
     "name": "stdout",
     "output_type": "stream",
     "text": [
      "RMSE: 89338200.69733144\n"
     ]
    }
   ],
   "source": [
    "# Define features and target\n",
    "X = df_model.drop(columns='revenue')\n",
    "y = df_model['revenue']\n",
    "\n",
    "# Split\n",
    "X_train, X_test, y_train, y_test = train_test_split(X, y, test_size=0.2, random_state=42)\n",
    "\n",
    "# Model\n",
    "model = XGBRegressor()\n",
    "model.fit(X_train, y_train)\n",
    "\n",
    "# Predict and evaluate\n",
    "y_pred = model.predict(X_test)\n",
    "rmse = np.sqrt(mean_squared_error(y_test, y_pred))\n",
    "print(\"RMSE:\", rmse)\n"
   ]
  },
  {
   "cell_type": "code",
   "execution_count": 20,
   "id": "d3472c38",
   "metadata": {},
   "outputs": [
    {
     "data": {
      "text/html": [
       "\n",
       "        <iframe\n",
       "            width=\"100%\"\n",
       "            height=\"650\"\n",
       "            src=\"http://127.0.0.1:8050/\"\n",
       "            frameborder=\"0\"\n",
       "            allowfullscreen\n",
       "            \n",
       "        ></iframe>\n",
       "        "
      ],
      "text/plain": [
       "<IPython.lib.display.IFrame at 0x2cde5fc6ad0>"
      ]
     },
     "metadata": {},
     "output_type": "display_data"
    }
   ],
   "source": [
    "import dash\n",
    "from dash import html, dcc\n",
    "import plotly.express as px\n",
    "import pandas as pd\n",
    "import numpy as np\n",
    "from sklearn.model_selection import train_test_split\n",
    "from sklearn.metrics import mean_squared_error\n",
    "from xgboost import XGBRegressor\n",
    "\n",
    "# Load datasets\n",
    "movies = pd.read_csv(\"tmdb_5000_movies.csv\")\n",
    "credits = pd.read_csv(\"tmdb_5000_credits.csv\")\n",
    "df = movies.merge(credits, on='title')\n",
    "\n",
    "import json\n",
    "\n",
    "def get_director(crew_str):\n",
    "    try:\n",
    "        crew = json.loads(crew_str)\n",
    "        for person in crew:\n",
    "            if person['job'] == 'Director':\n",
    "                return person['name']\n",
    "    except:\n",
    "        return np.nan\n",
    "\n",
    "def get_top_cast(cast_str):\n",
    "    try:\n",
    "        cast = json.loads(cast_str)\n",
    "        return [person['name'] for person in cast[:3]]\n",
    "    except:\n",
    "        return []\n",
    "\n",
    "df['director'] = df['crew'].apply(get_director)\n",
    "df['top_cast'] = df['cast'].apply(get_top_cast)\n",
    "\n",
    "# Feature engineering\n",
    "df_model = df[['budget', 'popularity', 'runtime', 'vote_average', 'vote_count', 'revenue', 'director', 'top_cast']].copy()\n",
    "df_model.fillna({'budget': df_model['budget'].mean(), 'runtime': df_model['runtime'].mean()}, inplace=True)\n",
    "\n",
    "top_directors = df_model['director'].value_counts().head(10).index\n",
    "df_model['director'] = df_model['director'].apply(lambda x: x if x in top_directors else 'Other')\n",
    "df_model = pd.get_dummies(df_model, columns=['director'], drop_first=True)\n",
    "\n",
    "df_model[['actor_1', 'actor_2', 'actor_3']] = pd.DataFrame(df_model['top_cast'].tolist(), index=df_model.index)\n",
    "df_model.drop(columns='top_cast', inplace=True)\n",
    "\n",
    "for actor_col in ['actor_1', 'actor_2', 'actor_3']:\n",
    "    top_actors = df_model[actor_col].value_counts().head(10).index\n",
    "    df_model[actor_col] = df_model[actor_col].apply(lambda x: x if x in top_actors else 'Other')\n",
    "\n",
    "df_model = pd.get_dummies(df_model, columns=['actor_1', 'actor_2', 'actor_3'], drop_first=True)\n",
    "\n",
    "# Train model\n",
    "X = df_model.drop(columns='revenue')\n",
    "y = df_model['revenue']\n",
    "X_train, X_test, y_train, y_test = train_test_split(X, y, test_size=0.2, random_state=42)\n",
    "\n",
    "model = XGBRegressor()\n",
    "model.fit(X_train, y_train)\n",
    "\n",
    "y_pred = model.predict(X_test)\n",
    "rmse = np.sqrt(mean_squared_error(y_test, y_pred))\n",
    "\n",
    "# Sample visualization data\n",
    "sample = pd.DataFrame({\n",
    "    'Movie': df.iloc[y_test.index[:10]]['title'].values,\n",
    "    'Actual Revenue': y_test[:10].values,\n",
    "    'Predicted Revenue': y_pred[:10]\n",
    "})\n",
    "\n",
    "fig = px.bar(sample, x='Movie', y=['Actual Revenue', 'Predicted Revenue'],\n",
    "             barmode='group', title='Actual vs Predicted Revenue for Sample Movies')\n",
    "\n",
    "# Dash app\n",
    "app = dash.Dash(__name__)\n",
    "app.title = \"Movie Revenue Dashboard\"\n",
    "\n",
    "app.layout = html.Div([\n",
    "    html.H1(\"🎬 Movie Revenue Prediction Dashboard\", style={\n",
    "        'textAlign': 'center',\n",
    "        'color': '#2c3e50',\n",
    "        'fontSize': '40px',\n",
    "        'marginBottom': '10px'\n",
    "    }),\n",
    "    html.H2(\"📊 Model Evaluation\", style={\n",
    "        'textAlign': 'center',\n",
    "        'color': '#34495e',\n",
    "        'fontSize': '28px',\n",
    "        'marginBottom': '20px'\n",
    "    }),\n",
    "    html.P(f\"Root Mean Squared Error on Test Set: ${round(rmse, 2):,}\", style={\n",
    "        'textAlign': 'center',\n",
    "        'fontSize': '22px',\n",
    "        'color': '#16a085',\n",
    "        'marginBottom': '40px'\n",
    "    }),\n",
    "    dcc.Graph(figure=fig)\n",
    "], style={'fontFamily': 'Arial, sans-serif', 'padding': '20px'})\n",
    "\n",
    "if __name__ == '__main__':\n",
    "    app.run(debug=True)\n"
   ]
  },
  {
   "cell_type": "code",
   "execution_count": null,
   "id": "ec307399",
   "metadata": {},
   "outputs": [],
   "source": []
  }
 ],
 "metadata": {
  "kernelspec": {
   "display_name": "Python 3",
   "language": "python",
   "name": "python3"
  },
  "language_info": {
   "codemirror_mode": {
    "name": "ipython",
    "version": 3
   },
   "file_extension": ".py",
   "mimetype": "text/x-python",
   "name": "python",
   "nbconvert_exporter": "python",
   "pygments_lexer": "ipython3",
   "version": "3.13.1"
  }
 },
 "nbformat": 4,
 "nbformat_minor": 5
}
